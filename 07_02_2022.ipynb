{
  "nbformat": 4,
  "nbformat_minor": 0,
  "metadata": {
    "colab": {
      "name": "07_02_2022.ipynb",
      "provenance": [],
      "authorship_tag": "ABX9TyNQv+YWe8x+Ixd/2g79+fD5",
      "include_colab_link": true
    },
    "kernelspec": {
      "name": "python3",
      "display_name": "Python 3"
    },
    "language_info": {
      "name": "python"
    }
  },
  "cells": [
    {
      "cell_type": "markdown",
      "metadata": {
        "id": "view-in-github",
        "colab_type": "text"
      },
      "source": [
        "<a href=\"https://colab.research.google.com/github/osvobozeni3729/dilna_II/blob/main/07_02_2022.ipynb\" target=\"_parent\"><img src=\"https://colab.research.google.com/assets/colab-badge.svg\" alt=\"Open In Colab\"/></a>"
      ]
    },
    {
      "cell_type": "code",
      "execution_count": null,
      "metadata": {
        "id": "s9h6xz2bEelj"
      },
      "outputs": [],
      "source": [
        "https://raw.githubusercontent.com/osvobozeni3729/pokus/main/pokemon.csv\""
      ]
    }
  ]
}