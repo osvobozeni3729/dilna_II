{
  "nbformat": 4,
  "nbformat_minor": 0,
  "metadata": {
    "colab": {
      "name": "dílna_II_datová_analýza.ipynb",
      "provenance": [],
      "collapsed_sections": [],
      "authorship_tag": "ABX9TyMbig0WUkt+akkvgR7C3M8r",
      "include_colab_link": true
    },
    "kernelspec": {
      "name": "python3",
      "display_name": "Python 3"
    },
    "language_info": {
      "name": "python"
    }
  },
  "cells": [
    {
      "cell_type": "markdown",
      "metadata": {
        "id": "view-in-github",
        "colab_type": "text"
      },
      "source": [
        "<a href=\"https://colab.research.google.com/github/osvobozeni3729/dilna_II/blob/main/d%C3%ADlna_II_datov%C3%A1_anal%C3%BDza.ipynb\" target=\"_parent\"><img src=\"https://colab.research.google.com/assets/colab-badge.svg\" alt=\"Open In Colab\"/></a>"
      ]
    },
    {
      "cell_type": "markdown",
      "source": [
        ""
      ],
      "metadata": {
        "id": "LdBksFCslJ-P"
      }
    },
    {
      "cell_type": "markdown",
      "source": [
        ""
      ],
      "metadata": {
        "id": "o8HQTVMclYaT"
      }
    },
    {
      "cell_type": "markdown",
      "source": [
        "Analýza nehod cyklistů v Brně\n",
        "\n",
        "Datová sada pochází z portálu https://data.brno.cz/ a obsahuje záznamy o všech evidovaných nehodách cyklistů na území Brna od roku 2010 do roku 2021.\n",
        "\n",
        "Načtení dat do dataframu Pandas"
      ],
      "metadata": {
        "id": "5viaTydmlLut"
      }
    },
    {
      "cell_type": "code",
      "source": [
        "https://raw.githubusercontent.com/mlcollege/ai-academy/main/05-Zaklady-datove-analyzy/data/nehody_cyklistu.csv\n",
        "\n",
        "# separátor středník "
      ],
      "metadata": {
        "id": "Q3ybhLs_lPFu"
      },
      "execution_count": null,
      "outputs": []
    },
    {
      "cell_type": "markdown",
      "source": [
        "1. Vizualizujeme jednotlivé atributy formou vykreslení histogramu jejich hodnot.\n",
        "2.Zjistěte, ve kterých dnech v týdnu a měsících dochází nehodám cyklistů nejčastěji.\n",
        "(\n",
        "    Jak se dají interpretovat výsledky?\n",
        "    Lze z výsledků usuzovat, že budeme podstupovat nejvyšší riziko, pokud se na kole po Brně vydáme ve středu nebo v srpnu?\n",
        "    Jaká dodatečná data by nám pomohla lépe určit rizikovost jízdy na kole pro daná období?)\n",
        "3. Vytvořte koláčové grafy následků nehody zvlášť pro cyklisty s přilbou a bez přilby a zhodnoťte, zda data prokazují, že má nošení přilby vliv na snížení závažnosti následků.\n",
        "4.Zjistěte, zda v Brně nosí cyklistickou helmu častěji muži nebo ženy.\n"
      ],
      "metadata": {
        "id": "aZy_CBBdlne-"
      }
    },
    {
      "cell_type": "code",
      "source": [
        ""
      ],
      "metadata": {
        "id": "YEQsuevxmPkS"
      },
      "execution_count": null,
      "outputs": []
    }
  ]
}