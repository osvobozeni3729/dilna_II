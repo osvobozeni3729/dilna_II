{
  "nbformat": 4,
  "nbformat_minor": 0,
  "metadata": {
    "colab": {
      "name": "Kopie sešitu dílna_II_datová_analýza.ipynb",
      "provenance": [],
      "collapsed_sections": [],
      "authorship_tag": "ABX9TyP7c2bHQyoAwzl8iBXHF9ME",
      "include_colab_link": true
    },
    "kernelspec": {
      "name": "python3",
      "display_name": "Python 3"
    },
    "language_info": {
      "name": "python"
    }
  },
  "cells": [
    {
      "cell_type": "markdown",
      "metadata": {
        "id": "view-in-github",
        "colab_type": "text"
      },
      "source": [
        "<a href=\"https://colab.research.google.com/github/osvobozeni3729/dilna_II/blob/main/Kopie_se%C5%A1itu_d%C3%ADlna_II_datov%C3%A1_anal%C3%BDza.ipynb\" target=\"_parent\"><img src=\"https://colab.research.google.com/assets/colab-badge.svg\" alt=\"Open In Colab\"/></a>"
      ]
    },
    {
      "cell_type": "markdown",
      "source": [
        ""
      ],
      "metadata": {
        "id": "LdBksFCslJ-P"
      }
    },
    {
      "cell_type": "markdown",
      "source": [
        ""
      ],
      "metadata": {
        "id": "o8HQTVMclYaT"
      }
    },
    {
      "cell_type": "markdown",
      "source": [
        "Analýza nehod cyklistů v Brně\n",
        "\n",
        "Datová sada pochází z portálu https://data.brno.cz/ a obsahuje záznamy o všech evidovaných nehodách cyklistů na území Brna od roku 2010 do roku 2021.\n",
        "\n",
        "Načtení dat do dataframu Pandas"
      ],
      "metadata": {
        "id": "5viaTydmlLut"
      }
    },
    {
      "cell_type": "code",
      "source": [
        "https://raw.githubusercontent.com/mlcollege/ai-academy/main/05-Zaklady-datove-analyzy/data/nehody_cyklistu.csv\n",
        "\n",
        "# separátor středník "
      ],
      "metadata": {
        "id": "Q3ybhLs_lPFu"
      },
      "execution_count": null,
      "outputs": []
    },
    {
      "cell_type": "markdown",
      "source": [
        "1. Vizualizujeme jednotlivé atributy formou vykreslení histogramu jejich hodnot.\n",
        "2.Zjistěte, ve kterých dnech v týdnu a měsících dochází nehodám cyklistů nejčastěji.\n",
        "(\n",
        "    Jak se dají interpretovat výsledky?\n",
        "    Lze z výsledků usuzovat, že budeme podstupovat nejvyšší riziko, pokud se na kole po Brně vydáme ve středu nebo v srpnu?\n",
        "    Jaká dodatečná data by nám pomohla lépe určit rizikovost jízdy na kole pro daná období?)\n",
        "3. Vytvořte koláčové grafy následků nehody zvlášť pro cyklisty s přilbou a bez přilby a zhodnoťte, zda data prokazují, že má nošení přilby vliv na snížení závažnosti následků.\n",
        "4.Zjistěte, zda v Brně nosí cyklistickou helmu častěji muži nebo ženy.\n"
      ],
      "metadata": {
        "id": "aZy_CBBdlne-"
      }
    },
    {
      "cell_type": "code",
      "source": [
        "# knihovna Numpy\n",
        "import numpy as np\n",
        "array = numpy.array([[1, 2, 3], [4, 5, 6], [7, 8, 9]])\n",
        "array"
      ],
      "metadata": {
        "colab": {
          "base_uri": "https://localhost:8080/"
        },
        "id": "bMEfozCdnXFv",
        "outputId": "670f8160-862d-4763-bb5c-8f2077f9facd"
      },
      "execution_count": 8,
      "outputs": [
        {
          "output_type": "execute_result",
          "data": {
            "text/plain": [
              "array([[1, 2, 3],\n",
              "       [4, 5, 6],\n",
              "       [7, 8, 9]])"
            ]
          },
          "metadata": {},
          "execution_count": 8
        }
      ]
    },
    {
      "cell_type": "code",
      "source": [
        "array.shape"
      ],
      "metadata": {
        "id": "10IOyY88ngg1"
      },
      "execution_count": null,
      "outputs": []
    },
    {
      "cell_type": "code",
      "source": [
        "array.dtype"
      ],
      "metadata": {
        "id": "h4dwrbeynnps"
      },
      "execution_count": null,
      "outputs": []
    },
    {
      "cell_type": "code",
      "source": [
        "array[0]"
      ],
      "metadata": {
        "id": "fKarvZY6nq3f"
      },
      "execution_count": null,
      "outputs": []
    },
    {
      "cell_type": "code",
      "source": [
        "array[0:-1]"
      ],
      "metadata": {
        "id": "ELqiM9lsoC2G"
      },
      "execution_count": null,
      "outputs": []
    },
    {
      "cell_type": "code",
      "source": [
        "array[0][1]"
      ],
      "metadata": {
        "id": "OATbQ01SoKAj"
      },
      "execution_count": null,
      "outputs": []
    },
    {
      "cell_type": "code",
      "source": [
        "array[:, 2]  # vybrání soupce"
      ],
      "metadata": {
        "id": "FJkfop5ZoPXI"
      },
      "execution_count": null,
      "outputs": []
    },
    {
      "cell_type": "code",
      "source": [
        "x_train = array.reshape(3,3,1)\n",
        "x_train"
      ],
      "metadata": {
        "id": "JFJTkoVDoXni"
      },
      "execution_count": null,
      "outputs": []
    },
    {
      "cell_type": "code",
      "source": [
        "x_train_arr = x_train.astype(\"float32\")/255\n",
        "x_train_arr"
      ],
      "metadata": {
        "id": "wV7t3-fWpWMW"
      },
      "execution_count": null,
      "outputs": []
    },
    {
      "cell_type": "code",
      "source": [
        "np.zeros((4, 4))\n",
        "np.ones((4, 4))\n",
        "\n"
      ],
      "metadata": {
        "colab": {
          "base_uri": "https://localhost:8080/"
        },
        "id": "qIM9SuO1p-GX",
        "outputId": "9697b473-3ddb-4c03-91ac-5667dc1dc927"
      },
      "execution_count": 9,
      "outputs": [
        {
          "output_type": "execute_result",
          "data": {
            "text/plain": [
              "array([[1., 1., 1., 1.],\n",
              "       [1., 1., 1., 1.],\n",
              "       [1., 1., 1., 1.],\n",
              "       [1., 1., 1., 1.]])"
            ]
          },
          "metadata": {},
          "execution_count": 9
        }
      ]
    },
    {
      "cell_type": "code",
      "source": [
        ""
      ],
      "metadata": {
        "id": "YEQsuevxmPkS"
      },
      "execution_count": null,
      "outputs": []
    }
  ]
}