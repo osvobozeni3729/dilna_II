{
  "nbformat": 4,
  "nbformat_minor": 0,
  "metadata": {
    "colab": {
      "name": "28_02_2022.ipynb",
      "provenance": [],
      "authorship_tag": "ABX9TyMJqj8yoRcU+jPuzwqqM65/",
      "include_colab_link": true
    },
    "kernelspec": {
      "name": "python3",
      "display_name": "Python 3"
    },
    "language_info": {
      "name": "python"
    }
  },
  "cells": [
    {
      "cell_type": "markdown",
      "metadata": {
        "id": "view-in-github",
        "colab_type": "text"
      },
      "source": [
        "<a href=\"https://colab.research.google.com/github/osvobozeni3729/dilna_II/blob/main/28_02_2022.ipynb\" target=\"_parent\"><img src=\"https://colab.research.google.com/assets/colab-badge.svg\" alt=\"Open In Colab\"/></a>"
      ]
    },
    {
      "cell_type": "code",
      "execution_count": null,
      "metadata": {
        "id": "PXlDsekQZCG5"
      },
      "outputs": [],
      "source": [
        "import pandas as pd\n",
        "planety = pd.DataFrame({\n",
        "    \"jmeno\": [\"Merkur\", \"Venuše\", \"Země\", \"Mars\", \"Jupiter\", \"Saturn\", \"Uran\", \"Neptun\"],\n",
        "    \"symbol\": [\"☿\", \"♀\", \"⊕\", \"♂\", \"♃\", \"♄\", \"♅\", \"♆\"],\n",
        "    \"obezna_poloosa\": [0.39, 0.72, 1.00, 1.52, 5.20, 9.54, 19.22, 30.06],\n",
        "    \"obezna_doba\": [0.24, 0.62, 1, 1.88, 11.86, 29.46, 84.01, 164.8],\n",
        "})"
      ]
    },
    {
      "cell_type": "code",
      "source": [
        "# ukol 1 přidej k tabulce sloupec \"objeveno\"\n",
        "# ukol  modifikujte tabulku trvale\n",
        "# ukol 3 přidejte řádek Pluto a sloupec \"je planeta\"\n",
        "# ukol 4 odstraňte nějaké řádky\n",
        "# ukol  načti soubor https://raw.githubusercontent.com/janpipek/data-pro-pyladies/master/data/countries.csv\"\n",
        "# ukol 5 vyber např. ČR a zjisti, jaké údaje k ní máme\n",
        "# ukol 6 Spočti celkový počet mrtvých v automobilových haváriích v jednotlivých zemích a v ČR\n",
        "# ukol 7 dožívají se muži vyššího věku?\n",
        "#  úkol 8  15 litrů čistého alkoholu na osobu na rok budeme považovat za hranici nadměrného pití # Kde se hodně pije?\n",
        "\n",
        "# úkol 9 A co ČR?\n",
        "# úkol 10 Leží země v Africe?\n",
        "# úkol 11 filtr - tabulka malých zemí - populace menší než 100000\n",
        "# úkol 12 filtr - chudé země EU\n",
        "# úkol 13 řazení - 10 zemí s nejmenším počtem obyvatel"
      ],
      "metadata": {
        "id": "8T3NmJQkZLCT"
      },
      "execution_count": null,
      "outputs": []
    }
  ]
}